{
 "cells": [
  {
   "cell_type": "markdown",
   "id": "ef0bef8e",
   "metadata": {},
   "source": [
    "# Estudo de Python"
   ]
  },
  {
   "cell_type": "markdown",
   "id": "a0a86d07",
   "metadata": {},
   "source": [
    "**Importante:** Python é uma linguagem de programação que tem preocupação em ser english like, ou seja, sua sintaxe se aproxima bastante de declarações em uma linguagem natural, no caso o inglês."
   ]
  },
  {
   "cell_type": "markdown",
   "id": "5a5c43d3",
   "metadata": {},
   "source": [
    "## Primeiros exemplos"
   ]
  },
  {
   "cell_type": "code",
   "execution_count": null,
   "id": "d148f03c",
   "metadata": {},
   "outputs": [],
   "source": [
    "print('Primeiro programa')"
   ]
  },
  {
   "cell_type": "markdown",
   "id": "f0fe5dd2",
   "metadata": {},
   "source": [
    "## Tipos Básicos"
   ]
  },
  {
   "cell_type": "code",
   "execution_count": null,
   "id": "c1ef9fba",
   "metadata": {},
   "outputs": [],
   "source": [
    "print(True)\n",
    "print(False)\n",
    "print(1.2 + 1)\n",
    "print('Aqui eu adiciono uma descrição!')\n",
    "print(\"Aqui eu também posso adicionar uma descrição\")\n",
    "# print('a'+2) -> Explicito é melhor que implicito\n",
    "print([1, 2, 3])\n",
    "print({'nome': 'Erick', 'idade': 21})\n",
    "print(None)\n"
   ]
  },
  {
   "cell_type": "markdown",
   "id": "74a77ca3",
   "metadata": {},
   "source": [
    "## Variáveis"
   ]
  },
  {
   "cell_type": "code",
   "execution_count": null,
   "id": "db19d12e",
   "metadata": {},
   "outputs": [],
   "source": [
    "a = 10\n",
    "b = 5.2\n",
    "c = 'Erick'\n",
    "\n",
    "print(a + b)\n",
    "print(a * c)\n"
   ]
  },
  {
   "cell_type": "markdown",
   "id": "715dd6f9",
   "metadata": {},
   "source": [
    "## Comentários"
   ]
  },
  {
   "cell_type": "code",
   "execution_count": null,
   "id": "3d19a2ff",
   "metadata": {},
   "outputs": [],
   "source": [
    "# Minhas variáveis\n",
    "salario = 3450.45\n",
    "despesas = 2456.2\n",
    "\n",
    "\"\"\"\n",
    "An ideia é calcular o quanto\n",
    "vai sobrar no final do mês\n",
    "\"\"\"\n",
    "\n",
    "print(salario - despesas)\n",
    "\n",
    "# print('Fim')"
   ]
  },
  {
   "cell_type": "markdown",
   "id": "d15e0bcf",
   "metadata": {},
   "source": [
    "## Operadores Aritméticos"
   ]
  },
  {
   "cell_type": "code",
   "execution_count": null,
   "id": "1bb2ed1e",
   "metadata": {},
   "outputs": [],
   "source": [
    "print(2 + 3)\n",
    "print(6 - 12)\n",
    "print(3.2 * 1.2)\n",
    "print(1.3 ** 3)\n",
    "print(8 / 3)\n",
    "print(8 // 3)\n",
    "print(28 % 3)"
   ]
  },
  {
   "cell_type": "code",
   "execution_count": null,
   "id": "f13cfaa9",
   "metadata": {},
   "outputs": [],
   "source": [
    "# Percentual despesas\n",
    "\n",
    "sal = 3450.45\n",
    "desp = 2456.6\n",
    "\n",
    "perc = desp*100/sal\n",
    "print(perc, '%')"
   ]
  },
  {
   "cell_type": "markdown",
   "id": "aa48a263",
   "metadata": {},
   "source": [
    "## Operadores Relacionais"
   ]
  },
  {
   "cell_type": "code",
   "execution_count": null,
   "id": "46152c50",
   "metadata": {},
   "outputs": [],
   "source": [
    "3 > 4\n",
    "4 >= 3\n",
    "1 < 2\n",
    "3 <= 1\n",
    "2 != 3\n",
    "2 == '2'\n",
    "2 == 2\n",
    "2 == 3"
   ]
  },
  {
   "cell_type": "markdown",
   "id": "ff18b121",
   "metadata": {},
   "source": [
    "## Operadores de Atribuição"
   ]
  },
  {
   "cell_type": "code",
   "execution_count": null,
   "id": "00ed5c4c",
   "metadata": {},
   "outputs": [],
   "source": [
    "a = 3\n",
    "a = a + 7\n",
    "print(a)\n",
    "\n",
    "a += 5\n",
    "print(a)\n",
    "\n",
    "a -= 3\n",
    "print(a)\n",
    "\n",
    "a *= 2\n",
    "print(a)\n",
    "\n",
    "a /= 4\n",
    "print(a)\n",
    "\n",
    "a %= 4\n",
    "print(a)\n",
    "\n",
    "a **= 8\n",
    "print(a)\n",
    "\n",
    "a //= 252\n",
    "print(a)\n",
    "\n"
   ]
  },
  {
   "cell_type": "markdown",
   "id": "54a1909c",
   "metadata": {},
   "source": [
    "## Operadores Lógicos"
   ]
  },
  {
   "cell_type": "code",
   "execution_count": null,
   "id": "381fb471",
   "metadata": {},
   "outputs": [],
   "source": [
    "True or False\n",
    "7 != 3 and 2 > 3\n",
    "\n",
    "True and True\n",
    "True and False\n",
    "False and True\n",
    "False and False\n",
    "False or False\n",
    "\n",
    "# Operador XOR\n",
    "True != True\n",
    "True != False\n",
    "False != True\n",
    "False != False\n",
    "\n",
    "# Operador unário\n",
    "not True\n",
    "not False\n",
    "not 0\n",
    "\n",
    "# Cuidado (Operador bitwise)!\n",
    "True & True\n",
    "False | True\n",
    "True ^ False\n",
    "\n"
   ]
  },
  {
   "cell_type": "markdown",
   "id": "cdecf3b6",
   "metadata": {},
   "source": [
    "## Operadores Unários"
   ]
  },
  {
   "cell_type": "code",
   "execution_count": null,
   "id": "2fcf0ed0",
   "metadata": {},
   "outputs": [],
   "source": [
    "a = 3\n",
    "# a++\n",
    "a += 1\n",
    "\n",
    "# a--\n",
    "a -= 1\n",
    "+a\n",
    "-a\n",
    "\n",
    "not 0\n",
    "not 1\n",
    "not False\n",
    "not not True\n"
   ]
  },
  {
   "cell_type": "markdown",
   "id": "3a98e352",
   "metadata": {},
   "source": [
    "## Operadores Ternários"
   ]
  },
  {
   "cell_type": "code",
   "execution_count": null,
   "id": "a0ab7482",
   "metadata": {},
   "outputs": [],
   "source": [
    "is_raining  = True\n",
    "\n",
    "# A primeira opção é falsa e a segunda verdadeira\n",
    "'Hoje estou com as roupas ' + ('secas.', 'molhadas.')[is_raining]\n",
    "\n",
    "'Hoje estou coma s roupas ' + ('molhadas.' if is_raining else 'secas.')"
   ]
  },
  {
   "cell_type": "markdown",
   "id": "a20675dd",
   "metadata": {},
   "source": [
    "## Mais Operadores"
   ]
  },
  {
   "cell_type": "code",
   "execution_count": null,
   "id": "ded98c5f",
   "metadata": {},
   "outputs": [],
   "source": [
    "# Operador de Membro\n",
    "list_0 = [1, 2, 3, 'Erick', 'Carol']\n",
    "'Erick' in list_0\n",
    "1 not in list_0\n",
    "\n",
    "# Operador de Identidade\n",
    "x = 3\n",
    "y = x\n",
    "z = 3\n",
    "x is y\n",
    "y is z\n",
    "x is not z\n",
    "\n",
    "list_1 = [1, 2, 3]\n",
    "list_2 = list_1\n",
    "list_3 = [1, 2, 3]\n",
    "\n",
    "print(list_1 is list_2)\n",
    "print(list_2 is list_3) # False pois estão em endereços de memória diferentes\n",
    "\n"
   ]
  },
  {
   "cell_type": "markdown",
   "id": "b6b3fe14",
   "metadata": {},
   "source": [
    "## Builtins"
   ]
  },
  {
   "cell_type": "code",
   "execution_count": 5,
   "id": "fce694e1",
   "metadata": {},
   "outputs": [
    {
     "name": "stdout",
     "output_type": "stream",
     "text": [
      "3.3333333333333335\n"
     ]
    },
    {
     "data": {
      "text/plain": [
       "['ArithmeticError',\n",
       " 'AssertionError',\n",
       " 'AttributeError',\n",
       " 'BaseException',\n",
       " 'BlockingIOError',\n",
       " 'BrokenPipeError',\n",
       " 'BufferError',\n",
       " 'BytesWarning',\n",
       " 'ChildProcessError',\n",
       " 'ConnectionAbortedError',\n",
       " 'ConnectionError',\n",
       " 'ConnectionRefusedError',\n",
       " 'ConnectionResetError',\n",
       " 'DeprecationWarning',\n",
       " 'EOFError',\n",
       " 'Ellipsis',\n",
       " 'EnvironmentError',\n",
       " 'Exception',\n",
       " 'False',\n",
       " 'FileExistsError',\n",
       " 'FileNotFoundError',\n",
       " 'FloatingPointError',\n",
       " 'FutureWarning',\n",
       " 'GeneratorExit',\n",
       " 'IOError',\n",
       " 'ImportError',\n",
       " 'ImportWarning',\n",
       " 'IndentationError',\n",
       " 'IndexError',\n",
       " 'InterruptedError',\n",
       " 'IsADirectoryError',\n",
       " 'KeyError',\n",
       " 'KeyboardInterrupt',\n",
       " 'LookupError',\n",
       " 'MemoryError',\n",
       " 'ModuleNotFoundError',\n",
       " 'NameError',\n",
       " 'None',\n",
       " 'NotADirectoryError',\n",
       " 'NotImplemented',\n",
       " 'NotImplementedError',\n",
       " 'OSError',\n",
       " 'OverflowError',\n",
       " 'PendingDeprecationWarning',\n",
       " 'PermissionError',\n",
       " 'ProcessLookupError',\n",
       " 'RecursionError',\n",
       " 'ReferenceError',\n",
       " 'ResourceWarning',\n",
       " 'RuntimeError',\n",
       " 'RuntimeWarning',\n",
       " 'StopAsyncIteration',\n",
       " 'StopIteration',\n",
       " 'SyntaxError',\n",
       " 'SyntaxWarning',\n",
       " 'SystemError',\n",
       " 'SystemExit',\n",
       " 'TabError',\n",
       " 'TimeoutError',\n",
       " 'True',\n",
       " 'TypeError',\n",
       " 'UnboundLocalError',\n",
       " 'UnicodeDecodeError',\n",
       " 'UnicodeEncodeError',\n",
       " 'UnicodeError',\n",
       " 'UnicodeTranslateError',\n",
       " 'UnicodeWarning',\n",
       " 'UserWarning',\n",
       " 'ValueError',\n",
       " 'Warning',\n",
       " 'WindowsError',\n",
       " 'ZeroDivisionError',\n",
       " '__IPYTHON__',\n",
       " '__build_class__',\n",
       " '__debug__',\n",
       " '__doc__',\n",
       " '__import__',\n",
       " '__loader__',\n",
       " '__name__',\n",
       " '__package__',\n",
       " '__spec__',\n",
       " 'abs',\n",
       " 'all',\n",
       " 'any',\n",
       " 'ascii',\n",
       " 'bin',\n",
       " 'bool',\n",
       " 'breakpoint',\n",
       " 'bytearray',\n",
       " 'bytes',\n",
       " 'callable',\n",
       " 'chr',\n",
       " 'classmethod',\n",
       " 'compile',\n",
       " 'complex',\n",
       " 'copyright',\n",
       " 'credits',\n",
       " 'delattr',\n",
       " 'dict',\n",
       " 'dir',\n",
       " 'display',\n",
       " 'divmod',\n",
       " 'enumerate',\n",
       " 'eval',\n",
       " 'exec',\n",
       " 'execfile',\n",
       " 'filter',\n",
       " 'float',\n",
       " 'format',\n",
       " 'frozenset',\n",
       " 'get_ipython',\n",
       " 'getattr',\n",
       " 'globals',\n",
       " 'hasattr',\n",
       " 'hash',\n",
       " 'help',\n",
       " 'hex',\n",
       " 'id',\n",
       " 'input',\n",
       " 'int',\n",
       " 'isinstance',\n",
       " 'issubclass',\n",
       " 'iter',\n",
       " 'len',\n",
       " 'license',\n",
       " 'list',\n",
       " 'locals',\n",
       " 'map',\n",
       " 'max',\n",
       " 'memoryview',\n",
       " 'min',\n",
       " 'next',\n",
       " 'object',\n",
       " 'oct',\n",
       " 'open',\n",
       " 'ord',\n",
       " 'pow',\n",
       " 'print',\n",
       " 'property',\n",
       " 'range',\n",
       " 'repr',\n",
       " 'reversed',\n",
       " 'round',\n",
       " 'runfile',\n",
       " 'set',\n",
       " 'setattr',\n",
       " 'slice',\n",
       " 'sorted',\n",
       " 'staticmethod',\n",
       " 'str',\n",
       " 'sum',\n",
       " 'super',\n",
       " 'tuple',\n",
       " 'type',\n",
       " 'vars',\n",
       " 'zip']"
      ]
     },
     "execution_count": 5,
     "metadata": {},
     "output_type": "execute_result"
    }
   ],
   "source": [
    "type(1)\n",
    "\n",
    "# Módulo integrado\n",
    "__builtins__.type('Olá')\n",
    "__builtins__.print(10/3)\n",
    "\n",
    "# __builtins__.help(__builtins__.dir)\n",
    "\n",
    "dir() # dir sem argumentos mostra o que está armazenado no escopo global\n",
    "\n",
    "dir(__builtins__)"
   ]
  },
  {
   "cell_type": "markdown",
   "id": "42c089f1",
   "metadata": {},
   "source": [
    "## Conversão de Tipos (Casting)"
   ]
  },
  {
   "cell_type": "code",
   "execution_count": 8,
   "id": "27150b6c",
   "metadata": {},
   "outputs": [
    {
     "name": "stdout",
     "output_type": "stream",
     "text": [
      "5\n",
      "23\n"
     ]
    }
   ],
   "source": [
    "2 + 3\n",
    "'2' + '3'\n",
    "# 2 + '3'\n",
    "print(2 + int('3'))\n",
    "print(str(2) + '3')\n"
   ]
  },
  {
   "cell_type": "markdown",
   "id": "3b80eacd",
   "metadata": {},
   "source": [
    "## Coerção Automática"
   ]
  },
  {
   "cell_type": "code",
   "execution_count": null,
   "id": "ba6d09b8",
   "metadata": {},
   "outputs": [],
   "source": []
  },
  {
   "cell_type": "code",
   "execution_count": null,
   "id": "e5bd51d2",
   "metadata": {},
   "outputs": [],
   "source": []
  }
 ],
 "metadata": {
  "kernelspec": {
   "display_name": "Python 3 (ipykernel)",
   "language": "python",
   "name": "python3"
  },
  "language_info": {
   "codemirror_mode": {
    "name": "ipython",
    "version": 3
   },
   "file_extension": ".py",
   "mimetype": "text/x-python",
   "name": "python",
   "nbconvert_exporter": "python",
   "pygments_lexer": "ipython3",
   "version": "3.9.7"
  }
 },
 "nbformat": 4,
 "nbformat_minor": 5
}
