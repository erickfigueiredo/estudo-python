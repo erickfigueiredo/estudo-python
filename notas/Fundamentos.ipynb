{
 "cells": [
  {
   "cell_type": "markdown",
   "id": "9cf2f1b0",
   "metadata": {},
   "source": [
    "# Estudo de Python"
   ]
  },
  {
   "cell_type": "markdown",
   "id": "b021f158",
   "metadata": {},
   "source": [
    "**Importante:** Python é uma linguagem de programação que tem preocupação em ser english like, ou seja, sua sintaxe se aproxima bastante de declarações em uma linguagem natural, no caso o inglês."
   ]
  },
  {
   "cell_type": "markdown",
   "id": "5a5c43d3",
   "metadata": {},
   "source": [
    "## Primeiros exemplos"
   ]
  },
  {
   "cell_type": "code",
   "execution_count": null,
   "id": "d148f03c",
   "metadata": {},
   "outputs": [],
   "source": [
    "print('Primeiro programa')"
   ]
  },
  {
   "cell_type": "markdown",
   "id": "f0fe5dd2",
   "metadata": {},
   "source": [
    "## Tipos Básicos"
   ]
  },
  {
   "cell_type": "code",
   "execution_count": null,
   "id": "c1ef9fba",
   "metadata": {},
   "outputs": [],
   "source": [
    "print(True)\n",
    "print(False)\n",
    "print(1.2 + 1)\n",
    "print('Aqui eu adiciono uma descrição!')\n",
    "print(\"Aqui eu também posso adicionar uma descrição\")\n",
    "# print('a'+2) -> Explicito é melhor que implicito\n",
    "print([1, 2, 3])\n",
    "print({'nome': 'Erick', 'idade': 21})\n",
    "print(None)\n"
   ]
  },
  {
   "cell_type": "markdown",
   "id": "74a77ca3",
   "metadata": {},
   "source": [
    "## Variáveis"
   ]
  },
  {
   "cell_type": "code",
   "execution_count": null,
   "id": "db19d12e",
   "metadata": {},
   "outputs": [],
   "source": [
    "a = 10\n",
    "b = 5.2\n",
    "c = 'Erick'\n",
    "\n",
    "print(a + b)\n",
    "print(a * c)\n"
   ]
  },
  {
   "cell_type": "markdown",
   "id": "715dd6f9",
   "metadata": {},
   "source": [
    "## Comentários"
   ]
  },
  {
   "cell_type": "code",
   "execution_count": null,
   "id": "3d19a2ff",
   "metadata": {},
   "outputs": [],
   "source": [
    "# Minhas variáveis\n",
    "salario = 3450.45\n",
    "despesas = 2456.2\n",
    "\n",
    "\"\"\"\n",
    "An ideia é calcular o quanto\n",
    "vai sobrar no final do mês\n",
    "\"\"\"\n",
    "\n",
    "print(salario - despesas)\n",
    "\n",
    "# print('Fim')"
   ]
  },
  {
   "cell_type": "markdown",
   "id": "d15e0bcf",
   "metadata": {},
   "source": [
    "## Operadores Aritméticos"
   ]
  },
  {
   "cell_type": "code",
   "execution_count": null,
   "id": "1bb2ed1e",
   "metadata": {},
   "outputs": [],
   "source": [
    "print(2 + 3)\n",
    "print(6 - 12)\n",
    "print(3.2 * 1.2)\n",
    "print(1.3 ** 3)\n",
    "print(8 / 3)\n",
    "print(8 // 3)\n",
    "print(28 % 3)"
   ]
  },
  {
   "cell_type": "code",
   "execution_count": null,
   "id": "8a4f0c6d",
   "metadata": {},
   "outputs": [],
   "source": [
    "# Percentual despesas\n",
    "\n",
    "sal = 3450.45\n",
    "desp = 2456.6\n",
    "\n",
    "perc = desp*100/sal\n",
    "print(perc, '%')"
   ]
  },
  {
   "cell_type": "markdown",
   "id": "4be270db",
   "metadata": {},
   "source": [
    "## Operadores Relacionais"
   ]
  },
  {
   "cell_type": "code",
   "execution_count": null,
   "id": "a31a637a",
   "metadata": {},
   "outputs": [],
   "source": [
    "3 > 4\n",
    "4 >= 3\n",
    "1 < 2\n",
    "3 <= 1\n",
    "2 != 3\n",
    "2 == '2'\n",
    "2 == 2\n",
    "2 == 3"
   ]
  },
  {
   "cell_type": "markdown",
   "id": "41b1e0c1",
   "metadata": {},
   "source": [
    "## Operadores de Atribuição"
   ]
  },
  {
   "cell_type": "code",
   "execution_count": null,
   "id": "cfd86b1a",
   "metadata": {},
   "outputs": [],
   "source": [
    "a = 3\n",
    "a = a + 7\n",
    "print(a)\n",
    "\n",
    "a += 5\n",
    "print(a)\n",
    "\n",
    "a -= 3\n",
    "print(a)\n",
    "\n",
    "a *= 2\n",
    "print(a)\n",
    "\n",
    "a /= 4\n",
    "print(a)\n",
    "\n",
    "a %= 4\n",
    "print(a)\n",
    "\n",
    "a **= 8\n",
    "print(a)\n",
    "\n",
    "a //= 252\n",
    "print(a)\n",
    "\n"
   ]
  },
  {
   "cell_type": "markdown",
   "id": "ee7606e5",
   "metadata": {},
   "source": [
    "## Operadores Lógicos"
   ]
  },
  {
   "cell_type": "code",
   "execution_count": null,
   "id": "a70b3419",
   "metadata": {},
   "outputs": [],
   "source": [
    "True or False\n",
    "7 != 3 and 2 > 3\n",
    "\n",
    "True and True\n",
    "True and False\n",
    "False and True\n",
    "False and False\n",
    "False or False\n",
    "\n",
    "# Operador XOR\n",
    "True != True\n",
    "True != False\n",
    "False != True\n",
    "False != False\n",
    "\n",
    "# Operador unário\n",
    "not True\n",
    "not False\n",
    "not 0\n",
    "\n",
    "# Cuidado (Operador bitwise)!\n",
    "True & True\n",
    "False | True\n",
    "True ^ False\n",
    "\n"
   ]
  },
  {
   "cell_type": "markdown",
   "id": "76b440de",
   "metadata": {},
   "source": [
    "## Operadores Unários"
   ]
  },
  {
   "cell_type": "code",
   "execution_count": null,
   "id": "6e8e19da",
   "metadata": {},
   "outputs": [],
   "source": [
    "a = 3\n",
    "# a++\n",
    "a += 1\n",
    "\n",
    "# a--\n",
    "a -= 1\n",
    "+a\n",
    "-a\n",
    "\n",
    "not 0\n",
    "not 1\n",
    "not False\n",
    "not not True\n"
   ]
  },
  {
   "cell_type": "markdown",
   "id": "f0a3e974",
   "metadata": {},
   "source": [
    "## Operadores Ternários"
   ]
  },
  {
   "cell_type": "code",
   "execution_count": null,
   "id": "5ccf0318",
   "metadata": {},
   "outputs": [],
   "source": [
    "is_raining  = True\n",
    "\n",
    "# A primeira opção é falsa e a segunda verdadeira\n",
    "'Hoje estou com as roupas ' + ('secas.', 'molhadas.')[is_raining]\n",
    "\n",
    "'Hoje estou coma s roupas ' + ('molhadas.' if is_raining else 'secas.')"
   ]
  },
  {
   "cell_type": "markdown",
   "id": "e8938a3c",
   "metadata": {},
   "source": [
    "## Mais Operadores"
   ]
  },
  {
   "cell_type": "code",
   "execution_count": null,
   "id": "2dd3a047",
   "metadata": {},
   "outputs": [],
   "source": [
    "# Operador de Membro\n",
    "list_0 = [1, 2, 3, 'Erick', 'Carol']\n",
    "'Erick' in list_0\n",
    "1 not in list_0\n",
    "\n",
    "# Operador de Identidade\n",
    "x = 3\n",
    "y = x\n",
    "z = 3\n",
    "x is y\n",
    "y is z\n",
    "x is not z\n",
    "\n",
    "list_1 = [1, 2, 3]\n",
    "list_2 = list_1\n",
    "list_3 = [1, 2, 3]\n",
    "\n",
    "print(list_1 is list_2)\n",
    "print(list_2 is list_3) # False pois estão em endereços de memória diferentes\n",
    "\n"
   ]
  },
  {
   "cell_type": "markdown",
   "id": "33444d51",
   "metadata": {},
   "source": [
    "## Builtins"
   ]
  },
  {
   "cell_type": "code",
   "execution_count": 5,
   "id": "aaaececd",
   "metadata": {},
   "outputs": [
    {
     "name": "stdout",
     "output_type": "stream",
     "text": [
      "3.3333333333333335\n"
     ]
    },
    {
     "data": {
      "text/plain": [
       "['ArithmeticError',\n",
       " 'AssertionError',\n",
       " 'AttributeError',\n",
       " 'BaseException',\n",
       " 'BlockingIOError',\n",
       " 'BrokenPipeError',\n",
       " 'BufferError',\n",
       " 'BytesWarning',\n",
       " 'ChildProcessError',\n",
       " 'ConnectionAbortedError',\n",
       " 'ConnectionError',\n",
       " 'ConnectionRefusedError',\n",
       " 'ConnectionResetError',\n",
       " 'DeprecationWarning',\n",
       " 'EOFError',\n",
       " 'Ellipsis',\n",
       " 'EnvironmentError',\n",
       " 'Exception',\n",
       " 'False',\n",
       " 'FileExistsError',\n",
       " 'FileNotFoundError',\n",
       " 'FloatingPointError',\n",
       " 'FutureWarning',\n",
       " 'GeneratorExit',\n",
       " 'IOError',\n",
       " 'ImportError',\n",
       " 'ImportWarning',\n",
       " 'IndentationError',\n",
       " 'IndexError',\n",
       " 'InterruptedError',\n",
       " 'IsADirectoryError',\n",
       " 'KeyError',\n",
       " 'KeyboardInterrupt',\n",
       " 'LookupError',\n",
       " 'MemoryError',\n",
       " 'ModuleNotFoundError',\n",
       " 'NameError',\n",
       " 'None',\n",
       " 'NotADirectoryError',\n",
       " 'NotImplemented',\n",
       " 'NotImplementedError',\n",
       " 'OSError',\n",
       " 'OverflowError',\n",
       " 'PendingDeprecationWarning',\n",
       " 'PermissionError',\n",
       " 'ProcessLookupError',\n",
       " 'RecursionError',\n",
       " 'ReferenceError',\n",
       " 'ResourceWarning',\n",
       " 'RuntimeError',\n",
       " 'RuntimeWarning',\n",
       " 'StopAsyncIteration',\n",
       " 'StopIteration',\n",
       " 'SyntaxError',\n",
       " 'SyntaxWarning',\n",
       " 'SystemError',\n",
       " 'SystemExit',\n",
       " 'TabError',\n",
       " 'TimeoutError',\n",
       " 'True',\n",
       " 'TypeError',\n",
       " 'UnboundLocalError',\n",
       " 'UnicodeDecodeError',\n",
       " 'UnicodeEncodeError',\n",
       " 'UnicodeError',\n",
       " 'UnicodeTranslateError',\n",
       " 'UnicodeWarning',\n",
       " 'UserWarning',\n",
       " 'ValueError',\n",
       " 'Warning',\n",
       " 'WindowsError',\n",
       " 'ZeroDivisionError',\n",
       " '__IPYTHON__',\n",
       " '__build_class__',\n",
       " '__debug__',\n",
       " '__doc__',\n",
       " '__import__',\n",
       " '__loader__',\n",
       " '__name__',\n",
       " '__package__',\n",
       " '__spec__',\n",
       " 'abs',\n",
       " 'all',\n",
       " 'any',\n",
       " 'ascii',\n",
       " 'bin',\n",
       " 'bool',\n",
       " 'breakpoint',\n",
       " 'bytearray',\n",
       " 'bytes',\n",
       " 'callable',\n",
       " 'chr',\n",
       " 'classmethod',\n",
       " 'compile',\n",
       " 'complex',\n",
       " 'copyright',\n",
       " 'credits',\n",
       " 'delattr',\n",
       " 'dict',\n",
       " 'dir',\n",
       " 'display',\n",
       " 'divmod',\n",
       " 'enumerate',\n",
       " 'eval',\n",
       " 'exec',\n",
       " 'execfile',\n",
       " 'filter',\n",
       " 'float',\n",
       " 'format',\n",
       " 'frozenset',\n",
       " 'get_ipython',\n",
       " 'getattr',\n",
       " 'globals',\n",
       " 'hasattr',\n",
       " 'hash',\n",
       " 'help',\n",
       " 'hex',\n",
       " 'id',\n",
       " 'input',\n",
       " 'int',\n",
       " 'isinstance',\n",
       " 'issubclass',\n",
       " 'iter',\n",
       " 'len',\n",
       " 'license',\n",
       " 'list',\n",
       " 'locals',\n",
       " 'map',\n",
       " 'max',\n",
       " 'memoryview',\n",
       " 'min',\n",
       " 'next',\n",
       " 'object',\n",
       " 'oct',\n",
       " 'open',\n",
       " 'ord',\n",
       " 'pow',\n",
       " 'print',\n",
       " 'property',\n",
       " 'range',\n",
       " 'repr',\n",
       " 'reversed',\n",
       " 'round',\n",
       " 'runfile',\n",
       " 'set',\n",
       " 'setattr',\n",
       " 'slice',\n",
       " 'sorted',\n",
       " 'staticmethod',\n",
       " 'str',\n",
       " 'sum',\n",
       " 'super',\n",
       " 'tuple',\n",
       " 'type',\n",
       " 'vars',\n",
       " 'zip']"
      ]
     },
     "execution_count": 5,
     "metadata": {},
     "output_type": "execute_result"
    }
   ],
   "source": [
    "type(1)\n",
    "\n",
    "# Módulo integrado\n",
    "__builtins__.type('Olá')\n",
    "__builtins__.print(10/3)\n",
    "\n",
    "# __builtins__.help(__builtins__.dir)\n",
    "\n",
    "dir() # dir sem argumentos mostra o que está armazenado no escopo global\n",
    "\n",
    "dir(__builtins__)"
   ]
  },
  {
   "cell_type": "markdown",
   "id": "1f514088",
   "metadata": {},
   "source": [
    "## Conversão de Tipos (Casting)"
   ]
  },
  {
   "cell_type": "code",
   "execution_count": 8,
   "id": "1100daad",
   "metadata": {},
   "outputs": [
    {
     "name": "stdout",
     "output_type": "stream",
     "text": [
      "5\n",
      "23\n"
     ]
    }
   ],
   "source": [
    "2 + 3\n",
    "'2' + '3'\n",
    "# 2 + '3'\n",
    "print(2 + int('3'))\n",
    "print(str(2) + '3')\n"
   ]
  },
  {
   "cell_type": "markdown",
   "id": "04ac457d",
   "metadata": {},
   "source": [
    "## Coerção Automática"
   ]
  },
  {
   "cell_type": "code",
   "execution_count": 1,
   "id": "35166cc1",
   "metadata": {},
   "outputs": [
    {
     "data": {
      "text/plain": [
       "4.0"
      ]
     },
     "execution_count": 1,
     "metadata": {},
     "output_type": "execute_result"
    }
   ],
   "source": [
    "10 / 2 # Divisão sempre gera um float\n",
    "2 + True\n",
    "1 + False\n",
    "2 + 2.0"
   ]
  },
  {
   "cell_type": "markdown",
   "id": "35efbd23",
   "metadata": {},
   "source": [
    "## Tipos numéricos"
   ]
  },
  {
   "cell_type": "code",
   "execution_count": 7,
   "id": "0a2f0288",
   "metadata": {},
   "outputs": [
    {
     "data": {
      "text/plain": [
       "['__abs__',\n",
       " '__add__',\n",
       " '__bool__',\n",
       " '__ceil__',\n",
       " '__class__',\n",
       " '__delattr__',\n",
       " '__dir__',\n",
       " '__divmod__',\n",
       " '__doc__',\n",
       " '__eq__',\n",
       " '__float__',\n",
       " '__floor__',\n",
       " '__floordiv__',\n",
       " '__format__',\n",
       " '__ge__',\n",
       " '__getattribute__',\n",
       " '__getformat__',\n",
       " '__getnewargs__',\n",
       " '__gt__',\n",
       " '__hash__',\n",
       " '__init__',\n",
       " '__init_subclass__',\n",
       " '__int__',\n",
       " '__le__',\n",
       " '__lt__',\n",
       " '__mod__',\n",
       " '__mul__',\n",
       " '__ne__',\n",
       " '__neg__',\n",
       " '__new__',\n",
       " '__pos__',\n",
       " '__pow__',\n",
       " '__radd__',\n",
       " '__rdivmod__',\n",
       " '__reduce__',\n",
       " '__reduce_ex__',\n",
       " '__repr__',\n",
       " '__rfloordiv__',\n",
       " '__rmod__',\n",
       " '__rmul__',\n",
       " '__round__',\n",
       " '__rpow__',\n",
       " '__rsub__',\n",
       " '__rtruediv__',\n",
       " '__set_format__',\n",
       " '__setattr__',\n",
       " '__sizeof__',\n",
       " '__str__',\n",
       " '__sub__',\n",
       " '__subclasshook__',\n",
       " '__truediv__',\n",
       " '__trunc__',\n",
       " 'as_integer_ratio',\n",
       " 'conjugate',\n",
       " 'fromhex',\n",
       " 'hex',\n",
       " 'imag',\n",
       " 'is_integer',\n",
       " 'real']"
      ]
     },
     "execution_count": 7,
     "metadata": {},
     "output_type": "execute_result"
    }
   ],
   "source": [
    "# Vemos o que está disponivel no tipo int\n",
    "dir(int)\n",
    "\n",
    "# Vemos o que está disponível no tipo float\n",
    "dir (float)\n",
    "\n",
    "a = 4\n",
    "b = 3.2\n",
    "\n",
    "a / b\n",
    "a + b\n",
    "a * b\n",
    "\n",
    "# O valor é inteiro, o tipo não\n",
    "5.0.is_integer()\n",
    "\n",
    "dir(int)\n",
    "int.__add__(2, 3)\n",
    "2 + 3\n",
    "\n",
    "(-2).__abs__()\n",
    "abs(-2)\n",
    "\n",
    "(-3.6).__abs__()\n",
    "dir(float)\n",
    "\n"
   ]
  },
  {
   "cell_type": "code",
   "execution_count": 12,
   "id": "7cdb4ab4",
   "metadata": {},
   "outputs": [
    {
     "data": {
      "text/plain": [
       "['Decimal',\n",
       " 'In',\n",
       " 'Out',\n",
       " '_',\n",
       " '_1',\n",
       " '_10',\n",
       " '_11',\n",
       " '_2',\n",
       " '_4',\n",
       " '_5',\n",
       " '_6',\n",
       " '_7',\n",
       " '_8',\n",
       " '__',\n",
       " '___',\n",
       " '__builtin__',\n",
       " '__builtins__',\n",
       " '__doc__',\n",
       " '__loader__',\n",
       " '__name__',\n",
       " '__package__',\n",
       " '__spec__',\n",
       " '_dh',\n",
       " '_i',\n",
       " '_i1',\n",
       " '_i10',\n",
       " '_i11',\n",
       " '_i12',\n",
       " '_i2',\n",
       " '_i3',\n",
       " '_i4',\n",
       " '_i5',\n",
       " '_i6',\n",
       " '_i7',\n",
       " '_i8',\n",
       " '_i9',\n",
       " '_ih',\n",
       " '_ii',\n",
       " '_iii',\n",
       " '_oh',\n",
       " 'a',\n",
       " 'b',\n",
       " 'exit',\n",
       " 'get_ipython',\n",
       " 'getcontext',\n",
       " 'quit']"
      ]
     },
     "execution_count": 12,
     "metadata": {},
     "output_type": "execute_result"
    }
   ],
   "source": [
    "1.1 + 2.2\n",
    "\n",
    "# Não está no builtins por padrão\n",
    "from decimal import Decimal, getcontext\n",
    "\n",
    "Decimal(1)/Decimal(7)\n",
    "\n",
    "getcontext().prec = 4\n",
    "Decimal(1)/Decimal(7)\n",
    "\n",
    "dir(Decimal)\n",
    "\n",
    "# Agora Decimal e getContext também estarão no escopo global\n",
    "dir()"
   ]
  },
  {
   "cell_type": "markdown",
   "id": "afaa7f14",
   "metadata": {},
   "source": [
    "## Tipo String"
   ]
  },
  {
   "cell_type": "code",
   "execution_count": 25,
   "id": "2a8aee16",
   "metadata": {},
   "outputs": [
    {
     "data": {
      "text/plain": [
       "'\\nTexto com multiplas linhas\\n\\n=)\\n'"
      ]
     },
     "execution_count": 25,
     "metadata": {},
     "output_type": "execute_result"
    }
   ],
   "source": [
    "dir(str)\n",
    "\n",
    "name = 'Erick Figueiredo'\n",
    "name\n",
    "\n",
    "# É possivel mudar o conteudo da variavel, mas n um indice\n",
    "# name[6] = 'F'\n",
    "\n",
    "#'marca d'água'\n",
    "\"marca d'água\" == 'marca d\\'água'\n",
    "\n",
    "text = 'Um exemplo de texto com \"aspas duplas\"'\n",
    "text\n",
    "\n",
    "multline = \"\"\"\n",
    "Texto com multiplas linhas\n",
    "\n",
    "=)\n",
    "\"\"\"\n",
    "multline\n"
   ]
  },
  {
   "cell_type": "code",
   "execution_count": 55,
   "id": "62c43828",
   "metadata": {},
   "outputs": [
    {
     "data": {
      "text/plain": [
       "'0987654321'"
      ]
     },
     "execution_count": 55,
     "metadata": {},
     "output_type": "execute_result"
    }
   ],
   "source": [
    "name = 'Erick Lindo'\n",
    "name[0]\n",
    "name[-3] # de trás para frente começando de menos -1\n",
    "\n",
    "name[6:]\n",
    "name[:5] # o final não pe considerado\n",
    "\n",
    "nums = '1234567890'\n",
    "nums\n",
    "nums[::] # acessa todos os elementos (step de 1 em 1)\n",
    "nums[::2] # acessa os elementos em um step de 2 em 2\n",
    "nums[1::2] # partindo do elemento de índice 1 faz os passos\n",
    "nums[::-1] # indo do começo até o final mas em um passo negativo\n"
   ]
  },
  {
   "cell_type": "code",
   "execution_count": 68,
   "id": "13d95362",
   "metadata": {},
   "outputs": [
    {
     "data": {
      "text/plain": [
       "<function str.center(width, fillchar=' ', /)>"
      ]
     },
     "execution_count": 68,
     "metadata": {},
     "output_type": "execute_result"
    }
   ],
   "source": [
    "frase = 'Python é uma linguagem excelente!'\n",
    "'py' in frase\n",
    "'ing' in frase\n",
    "len(frase)\n",
    "# Lembrando que a string não é modificada\n",
    "frase.lower()\n",
    "frase.upper()\n",
    "\n",
    "# Por padrão espaços em branco\n",
    "frase.split()"
   ]
  },
  {
   "cell_type": "code",
   "execution_count": 41,
   "id": "3baa67b0",
   "metadata": {},
   "outputs": [
    {
     "data": {
      "text/plain": [
       "True"
      ]
     },
     "execution_count": 41,
     "metadata": {},
     "output_type": "execute_result"
    }
   ],
   "source": [
    "a = '123'\n",
    "b = 'de lima 4'\n",
    "\n",
    "a + b\n",
    "a.__add__(b)\n",
    "str.__add__(a, b)\n",
    "\n",
    "'1' in a\n",
    "a.__contains__('1')"
   ]
  },
  {
   "cell_type": "markdown",
   "id": "cc48fbda",
   "metadata": {},
   "source": [
    "## Tipo Lista"
   ]
  },
  {
   "cell_type": "code",
   "execution_count": 75,
   "id": "aa4dfde1",
   "metadata": {},
   "outputs": [
    {
     "data": {
      "text/plain": [
       "['Carol', 'Erick', 5, 1]"
      ]
     },
     "execution_count": 75,
     "metadata": {},
     "output_type": "execute_result"
    }
   ],
   "source": [
    "lista = []\n",
    "type(lista)\n",
    "\n",
    "dir(lista)\n",
    "#help(list)\n",
    "\n",
    "# A lista em Python é semelhante ao Javascript\n",
    "\n",
    "len(lista)\n",
    "lista.append(1)\n",
    "lista.append(2)\n",
    "lista\n",
    "\n",
    "nova_lista = [1, 5, 5, 'Erick', 'Carol']\n",
    "nova_lista.remove(5) # Remove a primeira ocorrência do elemento\n",
    "\n",
    "# Altera o próprio elemento\n",
    "nova_lista.reverse()\n",
    "nova_lista"
   ]
  },
  {
   "cell_type": "code",
   "execution_count": 85,
   "id": "875ed4b5",
   "metadata": {},
   "outputs": [
    {
     "name": "stdout",
     "output_type": "stream",
     "text": [
      "Houve um erro\n"
     ]
    },
    {
     "data": {
      "text/plain": [
       "2"
      ]
     },
     "execution_count": 85,
     "metadata": {},
     "output_type": "execute_result"
    }
   ],
   "source": [
    "nova_lista.index('Erick')\n",
    "\n",
    "# Se um elemento n estiver na lista, ao invés de retornar -1 retorna um erro\n",
    "\n",
    "try:\n",
    "    lista.index('Erick')\n",
    "except ValueError:\n",
    "    print('Houve um erro')\n",
    "    \n",
    "# Pega o último elemento da lista\n",
    "lista[-1]\n"
   ]
  },
  {
   "cell_type": "code",
   "execution_count": 100,
   "id": "e63f24e8",
   "metadata": {},
   "outputs": [],
   "source": [
    "# lista = ['Erick', 'Renata', 'Zélia', 'Carol']\n",
    "lista[1:3]\n",
    "\n",
    "lista[::-1]\n",
    "\n",
    "# Deleta um elemento da lista\n",
    "del lista[2]\n",
    "del lista[1:]\n",
    "\n",
    "\n"
   ]
  },
  {
   "cell_type": "markdown",
   "id": "0db4e285",
   "metadata": {},
   "source": [
    "## Tipo Tupla"
   ]
  },
  {
   "cell_type": "code",
   "execution_count": 111,
   "id": "3b9eda8d",
   "metadata": {},
   "outputs": [
    {
     "data": {
      "text/plain": [
       "3"
      ]
     },
     "execution_count": 111,
     "metadata": {},
     "output_type": "execute_result"
    }
   ],
   "source": [
    "tupla = tuple()\n",
    "tupla = ()\n",
    "type(tupla)\n",
    "dir(tupla)\n",
    "\n",
    "#OBSERVAÇÃO: Tuplas utilizam parentesis, assim como expressões, porém\n",
    "#para definir uma tupla sem correr riscos, adicione \",\" ao final da definição\n",
    "tupla = ('um',)\n",
    "type(tupla)\n",
    "\n",
    "# Tuplas não suportam atribuição\n",
    "\n",
    "cores = ('vermelho', 'amarelo', 'azul', 'azul', 'azul', 'verde')\n",
    "cores[1:]\n",
    "\n",
    "cores.index('amarelo')\n",
    "cores.count('azul')\n"
   ]
  },
  {
   "cell_type": "markdown",
   "id": "4ce8ce61",
   "metadata": {},
   "source": [
    "## Tipo Dicionário"
   ]
  },
  {
   "cell_type": "code",
   "execution_count": 129,
   "id": "f6ed7a45",
   "metadata": {},
   "outputs": [
    {
     "data": {
      "text/plain": [
       "'Erick'"
      ]
     },
     "execution_count": 129,
     "metadata": {},
     "output_type": "execute_result"
    }
   ],
   "source": [
    "p1 = {\n",
    "    'name': 'Erick',\n",
    "    'age': 21,\n",
    "    'pets': [\n",
    "        'spoky',\n",
    "        'willo'\n",
    "    ]\n",
    "}\n",
    "\n",
    "p1['pets']\n",
    "\n",
    "p1.keys()\n",
    "p1.values()\n",
    "# Equivalente a entries em javascript\n",
    "p1.items()\n",
    "\n",
    "# retorna o valor\n",
    "a = p1.get('idade')\n",
    "\n",
    "# Valor padrão\n",
    "p1.get('name', [])"
   ]
  },
  {
   "cell_type": "code",
   "execution_count": 138,
   "id": "a8b37c48",
   "metadata": {},
   "outputs": [
    {
     "name": "stdout",
     "output_type": "stream",
     "text": [
      "12\n"
     ]
    }
   ],
   "source": [
    "pessoa = {'nome': 'Erick Figueiredo', 'idade': 12 }\n",
    "\n",
    "# retorna e remove\n",
    "print(pessoa.pop('idade'))\n",
    "\n",
    "pessoa.update({'idade': 25, 'sexo': 'M'})\n",
    "pessoa\n",
    "\n",
    "del pessoa['sexo']\n",
    "\n",
    "# Limpa completamente o dictionary\n",
    "pessoa.clear()"
   ]
  },
  {
   "cell_type": "markdown",
   "id": "07f05176",
   "metadata": {},
   "source": [
    "## Tipo conjunto"
   ]
  },
  {
   "cell_type": "code",
   "execution_count": 153,
   "id": "714e196a",
   "metadata": {},
   "outputs": [
    {
     "name": "stdout",
     "output_type": "stream",
     "text": [
      "{'i', 'e', 'k', 'c', 'r'}\n",
      "False True\n"
     ]
    },
    {
     "data": {
      "text/plain": [
       "{1, 3}"
      ]
     },
     "execution_count": 153,
     "metadata": {},
     "output_type": "execute_result"
    }
   ],
   "source": [
    "# Tanto dicionários quanto conjuntos são instânciados com chave\n",
    "a = {1, 2, 3, 4}\n",
    "type(a)\n",
    "\n",
    "# Não garante ordenação e não possui indexação\n",
    "a = set('erick')\n",
    "print(a)\n",
    "\n",
    "print(3 in a, 4 not in a)\n",
    "\n",
    "# operações\n",
    "c1 = {1, 2}\n",
    "c2 = {3, 4}\n",
    "\n",
    "c1 == c2\n",
    "\n",
    "# Gera novos conjuntos\n",
    "c1.union(c2)\n",
    "c1.intersection(c2)\n",
    "\n",
    "# União que gera impacto em c1\n",
    "c1.update(c2)\n",
    "\n",
    "# Verificação de subconjunto\n",
    "c2 <= c1\n",
    "\n",
    "# Diferença entre 2 conjuntos (A soma n existe)\n",
    "{1, 2, 3} - {2}"
   ]
  },
  {
   "cell_type": "markdown",
   "id": "58a84079",
   "metadata": {},
   "source": [
    "## Interpolação"
   ]
  },
  {
   "cell_type": "code",
   "execution_count": 165,
   "id": "f30a5938",
   "metadata": {},
   "outputs": [
    {
     "name": "stdout",
     "output_type": "stream",
     "text": [
      "Nome: Erick, Idade: 30.28\n",
      "Nome: Erick Idade: 30.275848\n",
      "Nome: Erick Idade: 30.275848\n",
      "Nome: Erick Idade: 30.275848\n"
     ]
    }
   ],
   "source": [
    "from string import Template\n",
    "\n",
    "nome, idade = 'Erick', 30.275848\n",
    "\n",
    "# Parecido com a sintaxe do C++\n",
    "print('Nome: %s, Idade: %.2f' % (nome, idade))\n",
    "\n",
    "# Recomendado até o python 3.6\n",
    "print('Nome: {0} Idade: {1}'.format(nome, idade))\n",
    "\n",
    "# Versão mais recente do Python (Mais enxuta e recomendada)\n",
    "print(f'Nome: {nome} Idade: {idade}')\n",
    "\n",
    "s = Template('Nome: $n Idade: $idade')\n",
    "print(s.substitute(n = nome, idade = idade))"
   ]
  }
 ],
 "metadata": {
  "kernelspec": {
   "display_name": "Python 3 (ipykernel)",
   "language": "python",
   "name": "python3"
  },
  "language_info": {
   "codemirror_mode": {
    "name": "ipython",
    "version": 3
   },
   "file_extension": ".py",
   "mimetype": "text/x-python",
   "name": "python",
   "nbconvert_exporter": "python",
   "pygments_lexer": "ipython3",
   "version": "3.9.7"
  }
 },
 "nbformat": 4,
 "nbformat_minor": 5
}
